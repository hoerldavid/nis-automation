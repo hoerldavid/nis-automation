{
 "cells": [
  {
   "cell_type": "code",
   "execution_count": 1,
   "metadata": {
    "collapsed": false
   },
   "outputs": [],
   "source": [
    "from nis_util import *"
   ]
  },
  {
   "cell_type": "code",
   "execution_count": 2,
   "metadata": {
    "collapsed": false
   },
   "outputs": [],
   "source": [
    "path_to_nis = 'C:\\\\Program Files\\\\NIS-Elements\\\\nis_ar.exe'"
   ]
  },
  {
   "cell_type": "code",
   "execution_count": 4,
   "metadata": {
    "collapsed": false
   },
   "outputs": [
    {
     "name": "stdout",
     "output_type": "stream",
     "text": [
      "(512.0, 512.0, 16.0, 4.0)\n",
      "(0.1, -0.1, 0.1, 0.0)\n",
      "['New1', 'New2']\n"
     ]
    }
   ],
   "source": [
    "print(get_resolution(path_to_nis))\n",
    "print(get_position(path_to_nis))\n",
    "print(get_optical_confs(path_to_nis))\n",
    "fov = get_fov_from_res(get_resolution(path_to_nis))\n",
    "\n",
    "my_grid = gen_grid(fov, [0,0], [1e3, 1e3], 0.1, True)\n",
    "\n",
    "set_optical_configuration(path_to_nis, 'New2')"
   ]
  },
  {
   "cell_type": "code",
   "execution_count": 9,
   "metadata": {
    "collapsed": false
   },
   "outputs": [
    {
     "name": "stdout",
     "output_type": "stream",
     "text": [
      "ND_ResetZSeriesExp();\n",
      "ND_SetZSeriesExp(3,20,0.00000,20,10,0,0,0,\"Ti Piezo ZDrive\",\"\",\"\");\n"
     ]
    }
   ],
   "source": [
    "fov = get_fov_from_res(get_resolution(path_to_nis))\n",
    "my_grid = gen_grid(fov, [0,0], [1e3, 1e3], 0.1, True)\n",
    "\n",
    "nda = NDAcquisition('C:\\\\Users\\\\hoerl\\\\Desktop\\\\image_AAA.nd2')\n",
    "nda.set_z(20, 20, 10, 'Ti Piezo ZDrive')\n",
    "nda.add_points(map(lambda x : (x[0], x[1], 0), my_grid))\n",
    "nda.add_c('New1')\n",
    "nda.add_c('New2')\n",
    "nda.prepare(path_to_nis)\n",
    "nda.run(path_to_nis)"
   ]
  },
  {
   "cell_type": "code",
   "execution_count": 94,
   "metadata": {
    "collapsed": false
   },
   "outputs": [],
   "source": []
  },
  {
   "cell_type": "code",
   "execution_count": 119,
   "metadata": {
    "collapsed": false
   },
   "outputs": [],
   "source": [
    "nda = NDAcquisition('C:\\\\Users\\\\hoerl\\\\Desktop\\\\image.nd2')\n",
    "nda.set_z(20, 20, 10)\n",
    "nda.add_point(0,0,0)\n",
    "nda.add_point(100,100,100)\n",
    "nda.add_c('New1')\n",
    "nda.add_c('New2')\n",
    "nda.prepare(path_to_nis)\n",
    "nda.run(path_to_nis)"
   ]
  },
  {
   "cell_type": "code",
   "execution_count": null,
   "metadata": {
    "collapsed": false
   },
   "outputs": [],
   "source": []
  },
  {
   "cell_type": "code",
   "execution_count": null,
   "metadata": {
    "collapsed": false
   },
   "outputs": [],
   "source": []
  },
  {
   "cell_type": "code",
   "execution_count": null,
   "metadata": {
    "collapsed": false
   },
   "outputs": [],
   "source": []
  }
 ],
 "metadata": {
  "kernelspec": {
   "display_name": "Python 3",
   "language": "python",
   "name": "python3"
  },
  "language_info": {
   "codemirror_mode": {
    "name": "ipython",
    "version": 3
   },
   "file_extension": ".py",
   "mimetype": "text/x-python",
   "name": "python",
   "nbconvert_exporter": "python",
   "pygments_lexer": "ipython3",
   "version": "3.5.2"
  }
 },
 "nbformat": 4,
 "nbformat_minor": 1
}
