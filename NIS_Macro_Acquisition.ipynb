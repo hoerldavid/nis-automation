{
 "cells": [
  {
   "cell_type": "code",
   "execution_count": null,
   "metadata": {
    "collapsed": false,
    "scrolled": true
   },
   "outputs": [],
   "source": [
    "from nis_util import *"
   ]
  },
  {
   "cell_type": "code",
   "execution_count": null,
   "metadata": {
    "collapsed": false,
    "scrolled": true
   },
   "outputs": [],
   "source": [
    "path_to_nis = 'C:\\\\Program Files\\\\NIS-Elements5\\\\nis_ar.exe'"
   ]
  },
  {
   "cell_type": "code",
   "execution_count": null,
   "metadata": {
    "collapsed": false,
    "scrolled": true
   },
   "outputs": [],
   "source": [
    "print(get_resolution(path_to_nis))\n",
    "print(get_position(path_to_nis))\n",
    "print(get_optical_confs(path_to_nis))\n",
    "fov = get_fov_from_res(get_resolution(path_to_nis))\n",
    "\n",
    "my_grid = gen_grid(fov, [0,0], [5e3, 5e3], 0.1, True)\n",
    "print(my_grid)\n",
    "#set_optical_configuration(path_to_nis, '4x')"
   ]
  },
  {
   "cell_type": "code",
   "execution_count": null,
   "metadata": {
    "collapsed": false,
    "scrolled": true
   },
   "outputs": [],
   "source": [
    "coords1 = get_position(path_to_nis)\n",
    "coords1[0:2]\n",
    "#coords1 = (39129.89014, 65787.27051)"
   ]
  },
  {
   "cell_type": "code",
   "execution_count": null,
   "metadata": {
    "collapsed": false,
    "scrolled": true
   },
   "outputs": [],
   "source": [
    "coords2 = get_position(path_to_nis)\n",
    "coords2[0:2]\n",
    "#coords2 = (70862.83203, 52452.75879)"
   ]
  },
  {
   "cell_type": "code",
   "execution_count": null,
   "metadata": {
    "collapsed": false,
    "scrolled": true
   },
   "outputs": [],
   "source": [
    "fov = get_fov_from_res(get_resolution(path_to_nis))\n",
    "my_grid = gen_grid(fov, list(coords1[0:2]), list(coords2[0:2]), 0.15, True)\n",
    "print(my_grid)\n",
    "pos = get_position(path_to_nis)\n",
    "print(pos)"
   ]
  },
  {
   "cell_type": "code",
   "execution_count": null,
   "metadata": {
    "collapsed": true,
    "scrolled": true
   },
   "outputs": [],
   "source": [
    "save_path = 'C:\\\\Users\\\\hoerl\\\\Desktop\\\\Wings\\\\test001.nd2'\n",
    "do_large_image_scan(path_to_nis, save_path, 0, 2000, 0, 2000)"
   ]
  },
  {
   "cell_type": "code",
   "execution_count": null,
   "metadata": {
    "collapsed": false,
    "scrolled": true
   },
   "outputs": [],
   "source": [
    "pos = get_position(path_to_nis)\n",
    "\n",
    "nda = NDAcquisition('C:\\\\Users\\\\Nikon\\\\Desktop\\\\Wings\\\\slide15_colour.nd2')\n",
    "nda.set_z(100, 100, 40, \"Triggered NIDAQ Piezo Z\")\n",
    "nda.add_points(map(lambda x : (x[0], x[1], pos[2] - pos[3]), my_grid))\n",
    "nda.add_c('4x')\n",
    "nda.prepare(path_to_nis)\n",
    "nda.run(path_to_nis)"
   ]
  },
  {
   "cell_type": "code",
   "execution_count": null,
   "metadata": {
    "collapsed": false,
    "scrolled": true
   },
   "outputs": [],
   "source": [
    "len(my_grid)"
   ]
  },
  {
   "cell_type": "code",
   "execution_count": null,
   "metadata": {
    "collapsed": false,
    "scrolled": true
   },
   "outputs": [],
   "source": [
    "nda = NDAcquisition('C:\\\\Users\\\\hoerl\\\\Desktop\\\\image.nd2')\n",
    "nda.set_z(20, 20, 10)\n",
    "nda.add_point(0,0,0)\n",
    "nda.add_point(100,100,100)\n",
    "nda.add_c('New1')\n",
    "nda.add_c('New2')\n",
    "nda.prepare(path_to_nis)\n",
    "nda.run(path_to_nis)"
   ]
  },
  {
   "cell_type": "code",
   "execution_count": null,
   "metadata": {
    "collapsed": false,
    "scrolled": true
   },
   "outputs": [],
   "source": []
  },
  {
   "cell_type": "code",
   "execution_count": null,
   "metadata": {
    "collapsed": false,
    "scrolled": true
   },
   "outputs": [],
   "source": []
  },
  {
   "cell_type": "code",
   "execution_count": null,
   "metadata": {
    "collapsed": false,
    "scrolled": true
   },
   "outputs": [],
   "source": []
  }
 ],
 "metadata": {
  "anaconda-cloud": {},
  "kernelspec": {
   "display_name": "Python [default]",
   "language": "python",
   "name": "python3"
  },
  "language_info": {
   "codemirror_mode": {
    "name": "ipython",
    "version": 3
   },
   "file_extension": ".py",
   "mimetype": "text/x-python",
   "name": "python",
   "nbconvert_exporter": "python",
   "pygments_lexer": "ipython3",
   "version": "3.5.2"
  }
 },
 "nbformat": 4,
 "nbformat_minor": 1
}
