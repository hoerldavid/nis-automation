{
 "cells": [
  {
   "cell_type": "code",
   "execution_count": 1,
   "metadata": {
    "collapsed": false
   },
   "outputs": [
    {
     "name": "stdout",
     "output_type": "stream",
     "text": [
      "[(1.0, 0.0), (0.09999999999999998, 0.0), (0.09999999999999998, 0.9), (1.0, 0.9)]\n"
     ]
    }
   ],
   "source": [
    "from nis_util import *"
   ]
  },
  {
   "cell_type": "code",
   "execution_count": 2,
   "metadata": {
    "collapsed": false
   },
   "outputs": [],
   "source": [
    "path_to_nis = 'C:\\\\Program Files\\\\NIS-Elements\\\\nis_ar.exe'"
   ]
  },
  {
   "cell_type": "code",
   "execution_count": 26,
   "metadata": {
    "collapsed": false
   },
   "outputs": [
    {
     "name": "stdout",
     "output_type": "stream",
     "text": [
      "(4908.0, 3264.0, 2.93399, 4.0)\n",
      "(64442.55859, 29389.9707, 1923.775, 150.0)\n",
      "['4x', '10x', '20x', 'Rot']\n",
      "[(0.0, 0.0), (3240.0051570000005, 0.0), (3240.0051570000005, 2154.722256), (0.0, 2154.722256), (0.0, 4309.444512), (3240.0051570000005, 4309.444512)]\n"
     ]
    }
   ],
   "source": [
    "print(get_resolution(path_to_nis))\n",
    "print(get_position(path_to_nis))\n",
    "print(get_optical_confs(path_to_nis))\n",
    "fov = get_fov_from_res(get_resolution(path_to_nis))\n",
    "\n",
    "my_grid = gen_grid(fov, [0,0], [5e3, 5e3], 0.1, True)\n",
    "print(my_grid)\n",
    "set_optical_configuration(path_to_nis, '4x')"
   ]
  },
  {
   "cell_type": "code",
   "execution_count": 29,
   "metadata": {
    "collapsed": false
   },
   "outputs": [
    {
     "data": {
      "text/plain": [
       "(64442.55859, 29389.9707)"
      ]
     },
     "execution_count": 29,
     "metadata": {},
     "output_type": "execute_result"
    }
   ],
   "source": [
    "coords1 = get_position(path_to_nis)\n",
    "coords1[0:2]\n",
    "#coords1 = (39129.89014, 65787.27051)"
   ]
  },
  {
   "cell_type": "code",
   "execution_count": 30,
   "metadata": {
    "collapsed": false
   },
   "outputs": [
    {
     "data": {
      "text/plain": [
       "(42338.7207, 23916.4917)"
      ]
     },
     "execution_count": 30,
     "metadata": {},
     "output_type": "execute_result"
    }
   ],
   "source": [
    "coords2 = get_position(path_to_nis)\n",
    "coords2[0:2]\n",
    "#coords2 = (70862.83203, 52452.75879)"
   ]
  },
  {
   "cell_type": "code",
   "execution_count": 31,
   "metadata": {
    "collapsed": false
   },
   "outputs": [
    {
     "name": "stdout",
     "output_type": "stream",
     "text": [
      "[(64442.55859, 29389.9707), (61382.5537195, 29389.9707), (58322.548849, 29389.9707), (55262.5439785, 29389.9707), (52202.539108, 29389.9707), (49142.5342375, 29389.9707), (46082.529366999996, 29389.9707), (43022.5244965, 29389.9707), (43022.5244965, 27354.955236), (46082.529366999996, 27354.955236), (49142.5342375, 27354.955236), (52202.539108, 27354.955236), (55262.5439785, 27354.955236), (58322.548849, 27354.955236), (61382.5537195, 27354.955236), (64442.55859, 27354.955236), (64442.55859, 25319.939772), (61382.5537195, 25319.939772), (58322.548849, 25319.939772), (55262.5439785, 25319.939772), (52202.539108, 25319.939772), (49142.5342375, 25319.939772), (46082.529366999996, 25319.939772), (43022.5244965, 25319.939772)]\n",
      "(42338.7207, 23916.4917, 1923.775, 150.0)\n"
     ]
    }
   ],
   "source": [
    "fov = get_fov_from_res(get_resolution(path_to_nis))\n",
    "my_grid = gen_grid(fov, list(coords1[0:2]), list(coords2[0:2]), 0.15, True)\n",
    "print(my_grid)\n",
    "pos = get_position(path_to_nis)\n",
    "print(pos)"
   ]
  },
  {
   "cell_type": "code",
   "execution_count": 37,
   "metadata": {
    "collapsed": false
   },
   "outputs": [
    {
     "name": "stdout",
     "output_type": "stream",
     "text": [
      "ND_ResetZSeriesExp();\n",
      "ND_SetZSeriesExp(3,100,0.00000,100,40,0,0,0,\"Triggered NIDAQ Piezo Z\",\"\",\"\");\n"
     ]
    }
   ],
   "source": [
    "pos = get_position(path_to_nis)\n",
    "\n",
    "nda = NDAcquisition('C:\\\\Users\\\\Nikon\\\\Desktop\\\\Wings\\\\slide15_colour.nd2')\n",
    "nda.set_z(100, 100, 40, \"Triggered NIDAQ Piezo Z\")\n",
    "nda.add_points(map(lambda x : (x[0], x[1], pos[2] - pos[3]), my_grid))\n",
    "nda.add_c('4x')\n",
    "nda.prepare(path_to_nis)\n",
    "nda.run(path_to_nis)"
   ]
  },
  {
   "cell_type": "code",
   "execution_count": 33,
   "metadata": {
    "collapsed": false
   },
   "outputs": [
    {
     "data": {
      "text/plain": [
       "24"
      ]
     },
     "execution_count": 33,
     "metadata": {},
     "output_type": "execute_result"
    }
   ],
   "source": [
    "len(my_grid)"
   ]
  },
  {
   "cell_type": "code",
   "execution_count": 119,
   "metadata": {
    "collapsed": false
   },
   "outputs": [],
   "source": [
    "nda = NDAcquisition('C:\\\\Users\\\\hoerl\\\\Desktop\\\\image.nd2')\n",
    "nda.set_z(20, 20, 10)\n",
    "nda.add_point(0,0,0)\n",
    "nda.add_point(100,100,100)\n",
    "nda.add_c('New1')\n",
    "nda.add_c('New2')\n",
    "nda.prepare(path_to_nis)\n",
    "nda.run(path_to_nis)"
   ]
  },
  {
   "cell_type": "code",
   "execution_count": null,
   "metadata": {
    "collapsed": false
   },
   "outputs": [],
   "source": []
  },
  {
   "cell_type": "code",
   "execution_count": null,
   "metadata": {
    "collapsed": false
   },
   "outputs": [],
   "source": []
  },
  {
   "cell_type": "code",
   "execution_count": null,
   "metadata": {
    "collapsed": false
   },
   "outputs": [],
   "source": []
  }
 ],
 "metadata": {
  "kernelspec": {
   "display_name": "Python 3",
   "language": "python",
   "name": "python3"
  },
  "language_info": {
   "codemirror_mode": {
    "name": "ipython",
    "version": 3
   },
   "file_extension": ".py",
   "mimetype": "text/x-python",
   "name": "python",
   "nbconvert_exporter": "python",
   "pygments_lexer": "ipython3",
   "version": "3.5.2"
  }
 },
 "nbformat": 4,
 "nbformat_minor": 1
}
