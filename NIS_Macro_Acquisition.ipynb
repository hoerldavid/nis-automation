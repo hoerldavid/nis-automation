{
 "cells": [
  {
   "cell_type": "code",
   "execution_count": 1,
   "metadata": {
    "collapsed": false
   },
   "outputs": [],
   "source": [
    "from nis_util import *"
   ]
  },
  {
   "cell_type": "code",
   "execution_count": 2,
   "metadata": {
    "collapsed": false
   },
   "outputs": [],
   "source": [
    "path_to_nis = 'C:\\\\Program Files\\\\NIS-Elements\\\\nis_ar.exe'"
   ]
  },
  {
   "cell_type": "code",
   "execution_count": 3,
   "metadata": {
    "collapsed": false
   },
   "outputs": [
    {
     "name": "stdout",
     "output_type": "stream",
     "text": [
      "(2156.0, 2560.0, 6.5, 4.0)\n",
      "(71060.43945, 20426.84082, 1790.275, 49.99153)\n",
      "['4x', '10x', '20x']\n",
      "[(0.0, 0.0), (3153.15, 0.0), (3153.15, 3744.0), (0.0, 3744.0)]\n"
     ]
    }
   ],
   "source": [
    "print(get_resolution(path_to_nis))\n",
    "print(get_position(path_to_nis))\n",
    "print(get_optical_confs(path_to_nis))\n",
    "fov = get_fov_from_res(get_resolution(path_to_nis))\n",
    "\n",
    "my_grid = gen_grid(fov, [0,0], [5e3, 5e3], 0.1, True)\n",
    "print(my_grid)\n",
    "set_optical_configuration(path_to_nis, '4x')"
   ]
  },
  {
   "cell_type": "code",
   "execution_count": 13,
   "metadata": {
    "collapsed": false
   },
   "outputs": [
    {
     "data": {
      "text/plain": [
       "(66637.02148, 26328.0249)"
      ]
     },
     "execution_count": 13,
     "metadata": {},
     "output_type": "execute_result"
    }
   ],
   "source": [
    "coords1 = get_position(path_to_nis)\n",
    "coords1[0:2]"
   ]
  },
  {
   "cell_type": "code",
   "execution_count": 14,
   "metadata": {
    "collapsed": false
   },
   "outputs": [
    {
     "data": {
      "text/plain": [
       "(51105.57617, 25703.94043)"
      ]
     },
     "execution_count": 14,
     "metadata": {},
     "output_type": "execute_result"
    }
   ],
   "source": [
    "coords2 = get_position(path_to_nis)\n",
    "coords2[0:2]"
   ]
  },
  {
   "cell_type": "code",
   "execution_count": 15,
   "metadata": {
    "collapsed": false
   },
   "outputs": [
    {
     "name": "stdout",
     "output_type": "stream",
     "text": [
      "[]\n"
     ]
    }
   ],
   "source": [
    "fov = get_fov_from_res(get_resolution(path_to_nis))\n",
    "my_grid = gen_grid(fov, list(coords1[0:2]), list(coords2[0:2]), 0.1, True)\n",
    "print(my_grid)"
   ]
  },
  {
   "cell_type": "code",
   "execution_count": 12,
   "metadata": {
    "collapsed": false
   },
   "outputs": [
    {
     "name": "stdout",
     "output_type": "stream",
     "text": [
      "ND_ResetZSeriesExp();\n",
      "ND_SetZSeriesExp(3,20,0.00000,20,10,0,0,0,\"Triggered NIDAQ Piezo Z\",\"\",\"\");\n"
     ]
    }
   ],
   "source": [
    "\n",
    "\n",
    "nda = NDAcquisition('C:\\\\Users\\\\Nikon\\\\Desktop\\\\image_AAA.nd2')\n",
    "nda.set_z(20, 20, 10, \"Triggered NIDAQ Piezo Z\")\n",
    "nda.add_points(map(lambda x : (x[0], x[1], 0), my_grid))\n",
    "nda.add_c('4x')\n",
    "nda.prepare(path_to_nis)\n",
    "nda.run(path_to_nis)"
   ]
  },
  {
   "cell_type": "code",
   "execution_count": 94,
   "metadata": {
    "collapsed": false
   },
   "outputs": [],
   "source": []
  },
  {
   "cell_type": "code",
   "execution_count": 119,
   "metadata": {
    "collapsed": false
   },
   "outputs": [],
   "source": [
    "nda = NDAcquisition('C:\\\\Users\\\\hoerl\\\\Desktop\\\\image.nd2')\n",
    "nda.set_z(20, 20, 10)\n",
    "nda.add_point(0,0,0)\n",
    "nda.add_point(100,100,100)\n",
    "nda.add_c('New1')\n",
    "nda.add_c('New2')\n",
    "nda.prepare(path_to_nis)\n",
    "nda.run(path_to_nis)"
   ]
  },
  {
   "cell_type": "code",
   "execution_count": null,
   "metadata": {
    "collapsed": false
   },
   "outputs": [],
   "source": []
  },
  {
   "cell_type": "code",
   "execution_count": null,
   "metadata": {
    "collapsed": false
   },
   "outputs": [],
   "source": []
  },
  {
   "cell_type": "code",
   "execution_count": null,
   "metadata": {
    "collapsed": false
   },
   "outputs": [],
   "source": []
  }
 ],
 "metadata": {
  "kernelspec": {
   "display_name": "Python 3",
   "language": "python",
   "name": "python3"
  },
  "language_info": {
   "codemirror_mode": {
    "name": "ipython",
    "version": 3
   },
   "file_extension": ".py",
   "mimetype": "text/x-python",
   "name": "python",
   "nbconvert_exporter": "python",
   "pygments_lexer": "ipython3",
   "version": "3.5.2"
  }
 },
 "nbformat": 4,
 "nbformat_minor": 1
}
