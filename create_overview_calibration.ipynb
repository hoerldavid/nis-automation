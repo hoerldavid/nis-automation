{
 "cells": [
  {
   "cell_type": "markdown",
   "metadata": {},
   "source": [
    "# Pixel -> Stage calibration for overviews"
   ]
  },
  {
   "cell_type": "code",
   "execution_count": 1,
   "metadata": {
    "collapsed": true
   },
   "outputs": [],
   "source": [
    "import os\n",
    "import logging\n",
    "import json\n",
    "\n",
    "from nis_util import do_large_image_scan, set_optical_configuration, get_position\n",
    "\n",
    "logging.basicConfig(format='%(asctime)s - %(levelname)s in %(funcName)s: %(message)s', level=logging.DEBUG)\n",
    "logger = logging.getLogger(__name__)"
   ]
  },
  {
   "cell_type": "markdown",
   "metadata": {},
   "source": [
    "## set paths"
   ]
  },
  {
   "cell_type": "code",
   "execution_count": 13,
   "metadata": {
    "collapsed": true
   },
   "outputs": [],
   "source": [
    "path_to_nis = 'C:\\\\Program Files\\\\NIS-Elements\\\\nis_ar.exe'\n",
    "save_base_path = 'C:\\\\Users\\\\Nikon\\\\Documents\\\\David\\\\overview_calibrations'\n",
    "calibration_name = 'right_color_251019.json'\n",
    "\n",
    "if not os.path.exists(save_base_path):\n",
    "    os.makedirs(save_base_path)\n",
    "    \n",
    "if os.path.exists(os.path.join(save_base_path, calibration_name)):\n",
    "    logger.warning('output file already exists, will be overwritten')"
   ]
  },
  {
   "cell_type": "markdown",
   "metadata": {},
   "source": [
    "## do a dummy overview scan\n",
    "\n",
    "please enter the coordinates of the field you wish to calibrate as (left, right, top, bottom) and the optical configuration you are using for overviews.\n",
    "\n",
    "Running the cell will do a dummy overview and leave the resulting image open in NIS.\n",
    "\n",
    "**! The z-position will be recorded to the calibration file, so please focus on a slide !**"
   ]
  },
  {
   "cell_type": "code",
   "execution_count": 14,
   "metadata": {
    "collapsed": true
   },
   "outputs": [],
   "source": [
    "calibration_fov = (-26500,\n",
    "  -50000,\n",
    "  -21053,\n",
    "  18177)\n",
    "calibration_oc = 'DIA4x'\n",
    "left, right, top, bottom = calibration_fov\n",
    "\n",
    "set_optical_configuration(path_to_nis, calibration_oc)\n",
    "do_large_image_scan(path_to_nis, '', left, right, top, bottom, close=False)\n",
    "pos = get_position(path_to_nis)"
   ]
  },
  {
   "cell_type": "markdown",
   "metadata": {},
   "source": [
    "## corresponding points\n",
    "\n",
    "Now, please collect 3 pairs of pixel (x,y)-coordinates and stage (um) coordinates.\n",
    "To do so, hover over the image, the pixel coordinates will be displayed on the bottom of the image window.\n",
    "If you right-click, the corresponding stage coordinates will be shown under ```Move this point to center```.\n",
    "\n",
    "**if you use binning, please multiply the *pixel coordinates* with the binning factor** "
   ]
  },
  {
   "cell_type": "code",
   "execution_count": 15,
   "metadata": {
    "collapsed": true
   },
   "outputs": [],
   "source": [
    "coords1px = (2071*3, 2273*3)\n",
    "coords1st = (-29777, -17306)\n",
    "\n",
    "coords2px = (11437*3, 6683*3)\n",
    "coords2st = (-49516, -7747)\n",
    "\n",
    "coords3px = (2873*3, 10802*3)\n",
    "coords3st = (-30954, 1180)"
   ]
  },
  {
   "cell_type": "markdown",
   "metadata": {},
   "source": [
    "## save the calibration\n",
    "\n",
    "execute the following to save the calibration as a JSON-file."
   ]
  },
  {
   "cell_type": "code",
   "execution_count": 16,
   "metadata": {},
   "outputs": [
    {
     "name": "stdout",
     "output_type": "stream",
     "text": [
      "saved calibration: \n",
      "\n",
      "{\n",
      " \"bbox\": [\n",
      "  -26500,\n",
      "  -50000,\n",
      "  -21053,\n",
      "  18177\n",
      " ],\n",
      " \"coords_px\": [\n",
      "  [\n",
      "   6990,\n",
      "   6819\n",
      "  ],\n",
      "  [\n",
      "   34311,\n",
      "   20049\n",
      "  ],\n",
      "  [\n",
      "   8619,\n",
      "   32406\n",
      "  ]\n",
      " ],\n",
      " \"coords_st\": [\n",
      "  [\n",
      "   -29777,\n",
      "   -17306\n",
      "  ],\n",
      "  [\n",
      "   -49516,\n",
      "   -7747\n",
      "  ],\n",
      "  [\n",
      "   -30954,\n",
      "   1180\n",
      "  ]\n",
      " ],\n",
      " \"zpos\": 2647.46\n",
      "}\n"
     ]
    }
   ],
   "source": [
    "res = {}\n",
    "res['bbox'] = calibration_fov\n",
    "res['coords_px'] = [coords1px, coords2px, coords3px]\n",
    "res['coords_st'] = [coords1st, coords2st, coords3st]\n",
    "res['zpos'] = pos[2]\n",
    "\n",
    "with open(os.path.join(save_base_path, calibration_name), 'w') as fd:\n",
    "    json.dump(res, fd, indent=1)\n",
    "    print('saved calibration: \\n\\n{}'.format(json.dumps(res, indent=1)))"
   ]
  },
  {
   "cell_type": "markdown",
   "metadata": {},
   "source": [
    "## test the transformation\n",
    "\n",
    "below, you can test the transformation by entering new pixel coordinates and checking if the output corresponds to the stage coordinates shown in NIS. "
   ]
  },
  {
   "cell_type": "code",
   "execution_count": 17,
   "metadata": {},
   "outputs": [
    {
     "data": {
      "text/plain": [
       "array([-46652.87970798,  12043.65437229])"
      ]
     },
     "execution_count": 17,
     "metadata": {},
     "output_type": "execute_result"
    }
   ],
   "source": [
    "import numpy as np\n",
    "from skimage.transform import AffineTransform\n",
    "\n",
    "test_coords = (10116*3, 15814*3)\n",
    "\n",
    "coords_px = np.array([coords1px, coords2px, coords3px], dtype=np.float)\n",
    "coords_st = np.array([coords1st, coords2st, coords3st], dtype=np.float)\n",
    "\n",
    "at = AffineTransform()\n",
    "at.estimate(coords_px, coords_st)\n",
    "at(np.array(test_coords)).ravel()"
   ]
  },
  {
   "cell_type": "code",
   "execution_count": 7,
   "metadata": {},
   "outputs": [
    {
     "data": {
      "text/plain": [
       "(array([[ -7.22466570e-01,  -3.50383624e-06,   5.51037221e+04],\n",
       "        [ -3.19971041e-06,   7.22455959e-01,  -2.19046340e+04],\n",
       "        [  0.00000000e+00,   0.00000000e+00,   1.00000000e+00]]),\n",
       " array([ 30917.49940791,  21254.05542249]))"
      ]
     },
     "execution_count": 7,
     "metadata": {},
     "output_type": "execute_result"
    }
   ],
   "source": [
    "from resources import left_color_calib\n",
    "import numpy as np\n",
    "from skimage.transform import AffineTransform\n",
    "\n",
    "test_coords = (11159*3, 19913*3)\n",
    "field_def_file = left_color_calib\n",
    "\n",
    "with open(field_def_file, 'r') as fd:\n",
    "    field_calib = json.load(fd)\n",
    "\n",
    "coords_px = np.array(field_calib['coords_px'], dtype=np.float)\n",
    "coords_st = np.array(field_calib['coords_st'], dtype=np.float)\n",
    "at = AffineTransform()\n",
    "at.estimate(coords_px, coords_st)\n",
    "at.params, at(np.array(test_coords)).ravel()"
   ]
  }
 ],
 "metadata": {
  "kernelspec": {
   "display_name": "Python 3",
   "language": "python",
   "name": "python3"
  },
  "language_info": {
   "codemirror_mode": {
    "name": "ipython",
    "version": 3
   },
   "file_extension": ".py",
   "mimetype": "text/x-python",
   "name": "python",
   "nbconvert_exporter": "python",
   "pygments_lexer": "ipython3",
   "version": "3.6.3"
  }
 },
 "nbformat": 4,
 "nbformat_minor": 2
}
