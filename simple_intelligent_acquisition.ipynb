{
 "cells": [
  {
   "cell_type": "markdown",
   "metadata": {},
   "source": [
    "# WingScanner"
   ]
  },
  {
   "cell_type": "code",
   "execution_count": null,
   "metadata": {
    "init_cell": true,
    "scrolled": true
   },
   "outputs": [],
   "source": [
    "# hide all code by default via JavaScript\n",
    "\n",
    "from IPython.display import HTML\n",
    "\n",
    "HTML('''<script>\n",
    "code_show=true; \n",
    "function code_toggle() {\n",
    " if (code_show){\n",
    " $('div.input').hide();\n",
    " } else {\n",
    " $('div.input').show();\n",
    " }\n",
    " code_show = !code_show\n",
    "} \n",
    "$( document ).ready(code_toggle);\n",
    "</script>\n",
    "The raw code for this Jupyter notebook is by default hidden for easier reading.\n",
    "To toggle on/off the raw code, click <a href=\"javascript:code_toggle()\">here</a>.''')"
   ]
  },
  {
   "cell_type": "code",
   "execution_count": null,
   "metadata": {
    "init_cell": true
   },
   "outputs": [],
   "source": [
    "#########################\n",
    "# defs and imports\n",
    "#########################\n",
    "\n",
    "import logging\n",
    "import os\n",
    "import shutil\n",
    "import json\n",
    "import threading\n",
    "import traceback\n",
    "\n",
    "import numpy as np\n",
    "from numpy.linalg import inv\n",
    "\n",
    "from nis_util import *\n",
    "from simple_detection import *\n",
    "\n",
    "from skimage.transform import AffineTransform\n",
    "from skimage.io import imread\n",
    "from xmlrpc.client import ServerProxy\n",
    "\n",
    "from annotation import manually_correct_rois\n",
    "from automation import WidgetProgressIndicator"
   ]
  },
  {
   "cell_type": "code",
   "execution_count": null,
   "metadata": {
    "collapsed": true,
    "init_cell": true
   },
   "outputs": [],
   "source": [
    "###################\n",
    "# set up the environment, nis, and image saving path\n",
    "###################\n",
    "\n",
    "import resources\n",
    "\n",
    "# Wrapper for default values\n",
    "class WingScannerSettings:\n",
    "    def __init__(self):\n",
    "        # value is (description, value)\n",
    "        self.path_to_nis = ('Path to NIS .exe', 'C:\\\\Program Files\\\\NIS-Elements\\\\nis_ar.exe')\n",
    "        self.save_base_path = ('Local Temp Folder', 'C:\\\\Users\\\\Nikon\\\\Documents\\\\automation_temp')\n",
    "        self.save_server_path_local = ('Destination Folder on Server (Network Share)', 'Y:\\\\results')\n",
    "        self.save_server_path_remote = ('Destination Folder on Server (On Server)', '/data/wing-scanner/results')\n",
    "\n",
    "        # location of the calibration files\n",
    "        self.calib_left = ('Calibration File (left)', resources.left_calib)\n",
    "        self.calib_mid = ('Calibration File (mid)', resources.mid_calib)\n",
    "        self.calib_right = ('Calibration File (right)', resources.right_calib)\n",
    "\n",
    "        # detail images z settings\n",
    "        self.z_drive= ('Z device for detail stacks', 'NIDAQ Piezo Z')\n",
    "        self.z_range = ('Z range (um)', 50)\n",
    "        self.z_step= ('Z steps (um)', 2)\n",
    "\n",
    "\n",
    "# plot size\n",
    "%matplotlib inline\n",
    "plt.rcParams['figure.figsize'] = [10,10]\n"
   ]
  },
  {
   "cell_type": "code",
   "execution_count": null,
   "metadata": {
    "init_cell": true,
    "scrolled": false
   },
   "outputs": [],
   "source": [
    "#################\n",
    "# do the scans\n",
    "#################\n",
    "\n",
    "style = {'description_width': 'initial'}\n",
    "\n",
    "from ipywidgets import Layout, HBox, VBox, Box, Checkbox, Text, BoundedFloatText, Button, FloatProgress, Label, Dropdown, Tab, Layout\n",
    "from IPython.display import display\n",
    "\n",
    "import automation\n",
    "from copy import copy\n",
    "\n",
    "logging.basicConfig(format='%(asctime)s - %(levelname)s in %(funcName)s: %(message)s', level=logging.INFO)\n",
    "logger = logging.getLogger(__name__)\n",
    "\n",
    "\n",
    "settings = WingScannerSettings()\n",
    "\n",
    "# this will fail on systems without nis -> use dummy values\n",
    "try:\n",
    "    pos = get_position(settings.path_to_nis[1])\n",
    "    color = is_color_camera(settings.path_to_nis[1])\n",
    "    ocs = get_optical_confs(settings.path_to_nis[1])\n",
    "except FileNotFoundError as e:\n",
    "    pos = (0, 0, 0, 0)\n",
    "    color = False\n",
    "    ocs = ['oc_1', 'oc_2']\n",
    "    \n",
    "if color:\n",
    "    settings.calib_left = ('Calibration File (left)', resources.left_color_calib)\n",
    "    settings.calib_mid = ('Calibration File (mid)', resources.mid_color_calib)\n",
    "    settings.calib_right = ('Calibration File (right)', resources.right_color_calib)\n",
    "\n",
    "# Tab 1: basic settings\n",
    "selection_oc_ov = Dropdown(\n",
    "    options=ocs,\n",
    "    value=ocs[0],\n",
    "    disabled=False,\n",
    "    description='Overview OC:',\n",
    "    style=style\n",
    ")\n",
    "selection_oc_det_dia = Dropdown(\n",
    "    options=ocs,\n",
    "    value=ocs[0],\n",
    "    disabled=False,\n",
    "    description='detailed DIA OC:',\n",
    "    style=style\n",
    ")\n",
    "selection_oc_det_fluo_vb = Box(\n",
    "    [Checkbox(description='',indent=False),\n",
    "     Dropdown(\n",
    "         options=ocs,\n",
    "         value=ocs[0],\n",
    "         description='Detail fluo OC :',\n",
    "         disabled=False,\n",
    "         style=style )])\n",
    "\n",
    "manual_annot_check = Checkbox(description='Manually correct detections?')\n",
    "detection_first_check = Checkbox(description='Do all overviews/detections first')\n",
    "hbox_ocs_mendatory = VBox([selection_oc_ov, selection_oc_det_dia])\n",
    "hbox_ocs_optionnal = VBox([selection_oc_det_fluo_vb, manual_annot_check, detection_first_check])\n",
    "sub_folder = Text(description='subfolder name:', style=style)\n",
    "\n",
    "left = HBox([Checkbox(description='left slide'), Text(description='prefix:'),\n",
    "             Checkbox(description='manual focus position', value=True), BoundedFloatText(description='z', value=float(pos[2]), min=0, max=5000, step=10)])\n",
    "\n",
    "mid = HBox([Checkbox(description='mid slide'), Text(description='prefix:'),\n",
    "             Checkbox(description='manual focus position', value=True), BoundedFloatText(description='z', value=float(pos[2]), min=0, max=5000, step=10)])\n",
    "\n",
    "right = HBox([Checkbox(description='right slide'), Text(description='sample name:'),\n",
    "             Checkbox(description='manual focus position', value=True), BoundedFloatText(description='z', value=float(pos[2]), min=0, max=5000, step=10)])\n",
    "\n",
    "status_main = HBox([FloatProgress(), Label()])\n",
    "status_detail = HBox([FloatProgress(), Label()])\n",
    "\n",
    "\n",
    "go = Button(description='GO')\n",
    "\n",
    "tab1 = VBox([ hbox_ocs_mendatory, hbox_ocs_optionnal, sub_folder, left, mid, right, status_main, status_detail, go])\n",
    "\n",
    "settings_textboxes = [Text(description=v[0], value=str(v[1]), layout=Layout(width='80%'), style=style) for _,v in vars(settings).items()]\n",
    "\n",
    "tab2 = VBox([\n",
    "    Label('Expert settings, only change if you know what you are doing')\n",
    "] + settings_textboxes )\n",
    "\n",
    "tabs = Tab(children=[tab1, tab2])\n",
    "tabs.set_title(0, 'Wing Scanner')\n",
    "tabs.set_title(1, 'Expert Settings')\n",
    "\n",
    "display(tabs)\n",
    "\n",
    "\n",
    "status = WidgetProgressIndicator(status_detail.children[0], status_detail.children[1])\n",
    "\n",
    "def onclick_go(btn):\n",
    "   \n",
    "    btn.disabled = True\n",
    "    \n",
    "    # update settings object\n",
    "    for i, k in enumerate(settings.__dict__):\n",
    "        settings.__dict__[k] = (settings_textboxes[i].description, settings_textboxes[i].value)\n",
    "        \n",
    "     # NB: we change the calibration if we use the color cam\n",
    "    # TODO: respect user choice for custom calibration\n",
    "    try:\n",
    "        set_optical_configuration(settings.path_to_nis[1], selection_oc_ov.value)\n",
    "        color = is_color_camera(settings.path_to_nis[1])\n",
    "        if color:\n",
    "            settings.calib_left = ('Calibration File (left)', resources.left_color_calib)\n",
    "            settings.calib_mid = ('Calibration File (mid)', resources.mid_color_calib)\n",
    "            settings.calib_right = ('Calibration File (right)', resources.right_color_calib)\n",
    "        else:\n",
    "            settings.calib_left = ('Calibration File (left)', resources.left_calib)\n",
    "            settings.calib_mid = ('Calibration File (mid)', resources.mid_calib)\n",
    "            settings.calib_right = ('Calibration File (right)', resources.right_calib)\n",
    "    except Exception as e:\n",
    "        pass\n",
    "    \n",
    "    save_path_local = settings.save_server_path_local[1]\n",
    "    save_path_remote = settings.save_server_path_remote[1]\n",
    "    if sub_folder.value:\n",
    "        save_path_local = os.path.join(save_path_local, sub_folder.value)\n",
    "        save_path_remote = (os.path.join(save_path_remote, sub_folder.value)).replace(os.sep, '/')\n",
    "    logger.info('Saving files to (local drive) %s '%(save_path_local))\n",
    "    logger.info('Saving files to (server) %s '%(save_path_remote))\n",
    "    \n",
    "    oc_overview = selection_oc_ov.value\n",
    "    ocs_detail = [selection_oc_det_dia.value]\n",
    "    if selection_oc_det_fluo_vb.children[0].value:\n",
    "        logger.info('Imaging also a second channel')\n",
    "        ocs_detail.append(selection_oc_det_fluo_vb.children[1].value)\n",
    "    \n",
    "    slide_left = left.children[1].value if left.children[0].value else None \n",
    "    slide_mid = mid.children[1].value if mid.children[0].value else None\n",
    "    slide_right = right.children[1].value if right.children[0].value else None\n",
    "\n",
    "    z_left = float(left.children[3].value) if left.children[2].value else None \n",
    "    z_mid = float(mid.children[3].value) if mid.children[2].value else None\n",
    "    z_right = float(right.children[3].value) if right.children[2].value else None\n",
    "\n",
    "    status_main.children[0].value = 0\n",
    "    status_main.children[1].value = 'scanning left'\n",
    "    \n",
    "    \n",
    "    \n",
    "    # TODO: set meaningful default in automation\n",
    "    config = automation.CommonParameters()\n",
    "    config.path_to_nis = settings.path_to_nis[1]\n",
    "    config.prefix = 'experiment'\n",
    "    config.progress_indicator = status\n",
    "    config.save_base_path = settings.save_base_path[1]\n",
    "    config.server_path_local = save_path_local\n",
    "    config.server_path_remote = save_path_remote\n",
    "    \n",
    "    ov_param = automation.OverviewParameters()\n",
    "    ov_param.export_as_tiff = True\n",
    "    ov_param.field_def_file = None\n",
    "    ov_param.manual_z = z_left\n",
    "    ov_param.oc_overview = oc_overview\n",
    "    ov_param.return_overview_img = True\n",
    "    \n",
    "    det_param = automation.DetectionParameters()\n",
    "    # TODO: add to settings\n",
    "    #det_param.detector_adress\n",
    "    det_param.do_manual_annotation = manual_annot_check.value\n",
    "    #det_param.object_filter = {}\n",
    "    det_param.plot_detection = True\n",
    "    \n",
    "    detail_param = automation.DetailParameters()\n",
    "    detail_param.auto_focus_detail = True\n",
    "    detail_param.channel_for_autofocus = 0\n",
    "    detail_param.channel_for_stitch = 0\n",
    "    detail_param.dry_run_details = False\n",
    "    detail_param.ocs_detail = ocs_detail\n",
    "    detail_param.projection_params = True\n",
    "    #detail_param.stitcher_adress\n",
    "    detail_param.tiff_export_details = True\n",
    "    detail_param.z_drive = settings.z_drive[1]\n",
    "    detail_param.z_range = int(settings.z_range[1])\n",
    "    detail_param.z_step = int(settings.z_step[1])\n",
    "    \n",
    "    # TODO: add callback to set \n",
    "    \n",
    "    configs = []\n",
    "    ov_params = []\n",
    "    det_params = []\n",
    "    detail_params = []\n",
    "    \n",
    "    do_scan_left  = slide_left != None\n",
    "    if do_scan_left:\n",
    "        logger.info('Scanning left scan.')\n",
    "        \n",
    "        config_l = copy(config)\n",
    "        config_l.prefix = slide_left\n",
    "        ov_param_l = copy(ov_param)\n",
    "        ov_param_l.field_def_file = settings.calib_left[1]\n",
    "        \n",
    "        configs.append(config_l)\n",
    "        ov_params.append(ov_param_l)\n",
    "        det_params.append(det_param)\n",
    "        detail_params.append(detail_param)\n",
    "        \n",
    "        '''\n",
    "        do_scan(settings.calib_left[1], oc_overview, ocs_detail, settings.path_to_nis[1], settings.save_base_path[1],\n",
    "                slide_left, save_path_local, save_path_remote,\n",
    "                manual_z_overview=z_left, z_drive=settings.z_drive[1],\n",
    "                z_range=int(settings.z_range[1]), z_step=int(settings.z_step[1]), progress_indicator=status,\n",
    "                manual_annotation_check = manual_annot_check.value )\n",
    "        '''\n",
    "    else:\n",
    "        logger.info('Skipping left slide.')\n",
    "\n",
    "    # mid slide\n",
    "    \n",
    "    status_main.children[0].value = 33\n",
    "    status_main.children[1].value = 'scanning mid'\n",
    "    \n",
    "    do_scan_mid  = slide_mid != None\n",
    "    if do_scan_mid:\n",
    "        logger.info('Scanning mid scan.')\n",
    "        \n",
    "        config_m = copy(config)\n",
    "        config_m.prefix = slide_mid\n",
    "        ov_param_m = copy(ov_param)\n",
    "        ov_param_m.field_def_file = settings.calib_mid[1]\n",
    "        \n",
    "        configs.append(config_m)\n",
    "        ov_params.append(ov_param_m)\n",
    "        det_params.append(det_param)\n",
    "        detail_params.append(detail_param)\n",
    "        \n",
    "        '''\n",
    "        do_scan(settings.calib_mid[1], oc_overview, ocs_detail, settings.path_to_nis[1], settings.save_base_path[1],\n",
    "                slide_mid, save_path_local, save_path_remote,\n",
    "                manual_z_overview=z_mid, z_drive=settings.z_drive[1],\n",
    "                z_range=int(settings.z_range[1]), z_step=int(settings.z_step[1]), progress_indicator=status,\n",
    "               manual_annotation_check = manual_annot_check.value)\n",
    "        '''\n",
    "    else:\n",
    "        logger.info('Skipping middle slide.')\n",
    "\n",
    "    status_main.children[0].value = 66\n",
    "    status_main.children[1].value = 'scanning right'\n",
    "    \n",
    "    # right slide\n",
    "    do_scan_right  = slide_right != None\n",
    "    if do_scan_right:\n",
    "        logger.info('Scanning right scan.')\n",
    "        \n",
    "        config_r = copy(config)\n",
    "        config_r.prefix = slide_right\n",
    "        ov_param_r = copy(ov_param)\n",
    "        ov_param_r.field_def_file = settings.calib_right[1]\n",
    "        \n",
    "        configs.append(config_r)\n",
    "        ov_params.append(ov_param_r)\n",
    "        det_params.append(det_param)\n",
    "        detail_params.append(detail_param)\n",
    "        \n",
    "        '''\n",
    "        do_scan(settings.calib_right[1], oc_overview, ocs_detail, settings.path_to_nis[1], settings.save_base_path[1],\n",
    "                slide_right, save_path_local, save_path_remote,\n",
    "                manual_z_overview=z_right, z_drive=settings.z_drive[1],\n",
    "                z_range=int(settings.z_range[1]), z_step=int(settings.z_step[1]), progress_indicator=status,\n",
    "               manual_annotation_check = manual_annot_check.value)\n",
    "        '''\n",
    "    else:\n",
    "        logger.info('Skipping right slide.')\n",
    "    \n",
    "    status_main.children[0].value = 100\n",
    "    status_main.children[1].value = 'Done'\n",
    "    \n",
    "    \n",
    "    if not detection_first_check.value:\n",
    "        automation.do_scan(configs, ov_params, det_params, detail_params)\n",
    "    else:\n",
    "        automation.do_scan_detection_first(configs, ov_params, det_params, detail_params)\n",
    "    \n",
    "    btn.disabled = False\n",
    "    \n",
    "go.on_click(onclick_go)"
   ]
  },
  {
   "cell_type": "markdown",
   "metadata": {},
   "source": [
    "# User Guide\n",
    "\n",
    "1. Select the optical configurations to use for **overview**, **detail (transmitted light)** and **detail (fluorescence)**\n",
    "2. Tick which slides are present (**image .. slide**) \n",
    "3. Give sample names to the slides you are imaging **NOTE: These have to be unique, if a sample of the same name already exists, we will not scan the slide**\n",
    "4. Press **GO**\n",
    "   \n",
    "If you want to manually focus on a slide, tick **manual focus** and enter the z-focus position (in microns)"
   ]
  }
 ],
 "metadata": {
  "anaconda-cloud": {},
  "kernelspec": {
   "display_name": "Python 3",
   "language": "python",
   "name": "python3"
  },
  "language_info": {
   "codemirror_mode": {
    "name": "ipython",
    "version": 3
   },
   "file_extension": ".py",
   "mimetype": "text/x-python",
   "name": "python",
   "nbconvert_exporter": "python",
   "pygments_lexer": "ipython3",
   "version": "3.6.3"
  },
  "pycharm": {
   "stem_cell": {
    "cell_type": "raw",
    "metadata": {
     "collapsed": false
    },
    "source": []
   }
  },
  "widgets": {
   "state": {
    "3612c01a7f9e4539a800e8f240517fdf": {
     "views": [
      {
       "cell_index": 2
      }
     ]
    },
    "38c12f31c7a4492e93c31c2c73ea15f3": {
     "views": [
      {
       "cell_index": 2
      }
     ]
    },
    "3a378946f8404e96a3d9ebf68473e244": {
     "views": [
      {
       "cell_index": 2
      }
     ]
    },
    "5586399c139040d89334c2657360151d": {
     "views": [
      {
       "cell_index": 2
      }
     ]
    },
    "61674dfec76e4fa3a143ac6608c077ae": {
     "views": [
      {
       "cell_index": 2
      }
     ]
    },
    "75eb8d0dd12b45b980ad7ebce82fcc39": {
     "views": [
      {
       "cell_index": 2
      }
     ]
    },
    "98302a4edd6f47c1b97f308f9fbb28d1": {
     "views": [
      {
       "cell_index": 2
      }
     ]
    },
    "d2998aff51324681b63df46e38e1a091": {
     "views": [
      {
       "cell_index": 2
      }
     ]
    },
    "f56dcf3c932b41678b5587e81b27036c": {
     "views": [
      {
       "cell_index": 2
      }
     ]
    }
   },
   "version": "1.2.0"
  }
 },
 "nbformat": 4,
 "nbformat_minor": 4
}
