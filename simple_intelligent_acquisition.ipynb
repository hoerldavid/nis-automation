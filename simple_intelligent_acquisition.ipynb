{
 "cells": [
  {
   "cell_type": "code",
   "execution_count": null,
   "metadata": {
    "collapsed": true
   },
   "outputs": [],
   "source": [
    "###################\n",
    "# set up the environment, nis, and image saving path\n",
    "#####################\n",
    "import os\n",
    "from nis_util import *\n",
    "from simple_detection import *\n",
    "\n",
    "path_to_nis = 'C:\\\\Program Files\\\\NIS-Elements\\\\nis_ar.exe'\n",
    "save_base_path = 'C:\\\\Users\\\\Nikon\\\\Documents\\\\David\\\\tmpOverview'\n",
    "\n",
    "%matplotlib inline"
   ]
  },
  {
   "cell_type": "code",
   "execution_count": null,
   "metadata": {
    "collapsed": true
   },
   "outputs": [],
   "source": [
    "point = np.array((200, 200))\n",
    "np.array(get_rotation_matrix(path_to_nis)).reshape((2,2)).dot(point)\n",
    "\n",
    "mat = np.array(get_rotation_matrix(path_to_nis)).reshape((2,2))\n",
    "# get resolution\n",
    "(xres, yres, siz, mag) = get_resolution(path_to_nis)\n",
    "# get fov\n",
    "fov_x = xres * siz / mag\n",
    "fov_y = yres * siz / mag\n",
    "\n",
    "direction = [1, -1]\n",
    "\n",
    "start = [0, 0]\n",
    "psz = [1,1]\n",
    "\n",
    "import logging\n",
    "\n",
    "logging.basicConfig(format='%(asctime)s - %(levelname)s: %(message)s', level=logging.DEBUG)\n",
    "\n",
    "bbox_pix2unit2((0,0,1,1), start, psz, direction, [fov_y, fov_x], mat)"
   ]
  },
  {
   "cell_type": "code",
   "execution_count": 6,
   "metadata": {
    "collapsed": true
   },
   "outputs": [],
   "source": [
    "import logging\n",
    "import numpy as np\n",
    "from numpy.linalg import inv\n",
    "\n",
    "\n",
    "def bbox_pix2unit2(bbox, start, pixsize, direction, fov, mat):\n",
    "    logger = logging.getLogger(__name__)\n",
    "    \n",
    "    extra_offset = inv(mat).dot(np.array(list(reversed(fov)), dtype=float)/2) * np.array(list(reversed(direction)), dtype=float)\n",
    "    start_ = np.array(start, dtype=float) + np.array(list(reversed(list(extra_offset))), dtype=float)\n",
    "    \n",
    "    logger.debug('extra offset: {}, new start: {}'.format(extra_offset, start_))\n",
    "    \n",
    "    (ymin, xmin, ymax, xmax) = bbox\n",
    "    \n",
    "    bbox_tr = np.apply_along_axis(lambda x: mat.dot(x), 1, np.array([[xmin, ymin], \n",
    "                                                           [xmin, ymax],\n",
    "                                                           [xmax, ymin],\n",
    "                                                           [xmax, ymax]], dtype=float))\n",
    "    # TODO: WHY?\n",
    "    bbox_tr *= -1\n",
    "    \n",
    "    min_ = np.apply_along_axis(np.min, 0, bbox_tr)\n",
    "    max_ = np.apply_along_axis(np.max, 0, bbox_tr)\n",
    "    \n",
    "    logger.debug('new min: {}, new max: {}'.format(min_, max_))\n",
    "    \n",
    "    bbox_tr_arr = np.array([list(reversed(list(min_))), list(reversed(list(max_)))], dtype=float)\n",
    "    \n",
    "    res = (bbox_tr_arr * np.array(pixsize, dtype=float) *\n",
    "            np.array(direction, dtype=float) + start_)\n",
    "    \n",
    "    logger.debug('bbox: {}, toUnit: {}'.format(bbox, res.reshape((4,))))\n",
    "    return res.reshape((4,))\n",
    "\n",
    "\n",
    "def do_scan(field, oc_overview, oc_detail, path_to_nis, save_base_path, prefix, suffix='.nd2', do_plot=True,\n",
    "           z_range = 10, z_step=2, z_drive='Ti2 ZDrive', dry_run_details=False, stitched=True):\n",
    "    \n",
    "    logger = logging.getLogger(__name__)\n",
    "    \n",
    "    # get field and directions \n",
    "    (left, right, top, bottom) = field\n",
    "    direction = [1 if top<bottom else -1, 1 if left<right else -1]\n",
    "    \n",
    "    # do overview\n",
    "    set_optical_configuration(path_to_nis, oc_overview)\n",
    "    \n",
    "    # get resolution\n",
    "    (xres, yres, siz, mag) = get_resolution(path_to_nis)\n",
    "    # get fov\n",
    "    fov_x = xres * siz / mag\n",
    "    fov_y = yres * siz / mag\n",
    "    \n",
    "    logger.debug('overview resolution: {}, {}, {}, {}'.format(xres, yres, siz, mag))\n",
    "    \n",
    "    ov_path = os.path.join(save_base_path, prefix + '_overview' + suffix)    \n",
    "    do_large_image_scan(path_to_nis, ov_path, left, right, top, bottom)\n",
    "    \n",
    "    print('finished overview, detecting wings...')\n",
    "    \n",
    "    # detect wings\n",
    "    img = read_bf(ov_path)\n",
    "    # bboxes = detect_wings_simple(img, [top - fov_y * direction[0] / 2.0, left - fov_x * direction [1] / 2.0], [siz/mag,siz/mag], direction, plot=do_plot, layers=2)\n",
    "    \n",
    "    bboxes = detect_wings_simple(img, plot=do_plot, layers=2)\n",
    "    \n",
    "    mat = np.array(get_rotation_matrix(path_to_nis)).reshape((2,2))\n",
    "    # pixels to units\n",
    "    bboxes = [bbox_pix2unit2(b, [top, left], [siz/mag,siz/mag], direction,[fov_y, fov_x], mat) for b in bboxes]\n",
    "    # bboxes = [scale_bbox(bbox, expand_factor=.15) for bbox in bboxes]\n",
    "    \n",
    "    print('detected {} wings:'.format(len(bboxes)))\n",
    "    idx = 0\n",
    "    for bbox in bboxes:\n",
    "        print('scanning wing {}: {}'.format(idx, bbox))\n",
    "        \n",
    "        (ymin, xmin, ymax, xmax) = bbox\n",
    "        wing_path = os.path.join(save_base_path, prefix + '_wing' + str(idx) + suffix) \n",
    "        idx += 1\n",
    "        \n",
    "        set_optical_configuration(path_to_nis, oc_detail)\n",
    "        pos = get_position(path_to_nis)\n",
    "        \n",
    "        (xres, yres, siz, mag) = get_resolution(path_to_nis)\n",
    "        fov = get_fov_from_res(get_resolution(path_to_nis))\n",
    "        logger.debug('detail resolution: {}, {}, {}, {}'.format(xres, yres, siz, mag))\n",
    "        logger.debug('fov: {}'.format(fov))\n",
    "        \n",
    "        grid = gen_grid(fov, [xmin, ymin], [xmax, ymax], 0.15, True)\n",
    "        \n",
    "        # get resolution\n",
    "        \n",
    "        # get fov\n",
    "        fov_x = xres * siz / mag\n",
    "        fov_y = yres * siz / mag\n",
    "        # correct for half view offset (we add this time) - may not be neccessary at this magnification/fov\n",
    "        # we should probably do that, ignore it for now\n",
    "        # grid = [[g[0] + fov_x * direction[1] / 2.0, g[1] + fov_y * direction [0] / 2.0] for g in grid]\n",
    "        if not stitched:\n",
    "            for g in grid:\n",
    "                logger.debug('wing {}: will scan tile at {}'.format(idx-1, g))\n",
    "        \n",
    "        if not dry_run_details:\n",
    "            if not stitched:\n",
    "                nda = NDAcquisition(wing_path)\n",
    "                nda.set_z(int(z_range/2), int(z_range/2), int(z_step), z_drive)\n",
    "                nda.add_points(map(lambda x : (x[0], x[1], pos[2] - pos[3]), grid))\n",
    "                nda.prepare(path_to_nis)\n",
    "                nda.run(path_to_nis)\n",
    "            else:\n",
    "                do_large_image_scan(path_to_nis, wing_path, xmax, xmin, ymin, ymax, 15, True)"
   ]
  },
  {
   "cell_type": "code",
   "execution_count": 7,
   "metadata": {
    "collapsed": false
   },
   "outputs": [
    {
     "name": "stderr",
     "output_type": "stream",
     "text": [
      "2017-12-18 10:35:58,030 - DEBUG: extra offset: [-54.74374609  44.75625391], new start: [ 44.75625391 -54.74374609]\n",
      "2017-12-18 10:35:58,033 - DEBUG: new min: [ -99.5        -109.48749218], new max: [ 9.98749218 -0.        ]\n",
      "2017-12-18 10:35:58,034 - DEBUG: bbox: (0, 0, 100, 100), toUnit: [-64.73123827  44.75625391  44.75625391 -64.73123827]\n"
     ]
    },
    {
     "data": {
      "text/plain": [
       "array([-64.73123827,  44.75625391,  44.75625391, -64.73123827])"
      ]
     },
     "execution_count": 7,
     "metadata": {},
     "output_type": "execute_result"
    }
   ],
   "source": [
    "import logging\n",
    "logging.basicConfig(format='%(asctime)s - %(levelname)s: %(message)s', level=logging.DEBUG)\n",
    "\n",
    "phi = np.arccos(0.995) - 2 * np.pi\n",
    "bbox_pix2unit2((0,0,100,100), [0.0,0.0], [1.0,1.0], [1, -1], [100.0, 100.0], np.array([[np.cos(phi), - np.sin(phi)],[np.sin(phi), np.cos(phi)]], dtype=float))"
   ]
  },
  {
   "cell_type": "code",
   "execution_count": null,
   "metadata": {
    "collapsed": true
   },
   "outputs": [],
   "source": [
    "get_fov_from_res(get_resolution(path_to_nis))\n",
    "# get resolution\n",
    "(xres, yres, siz, mag) = get_resolution(path_to_nis)\n",
    "# get fov\n",
    "fov_x = xres * siz / mag\n",
    "fov_y = yres * siz / mag\n",
    "\n",
    "(left, right, top, bottom) = (53331, 28806, -20726, 20464)\n",
    "direction = [1 if top<bottom else -1, 1 if left<right else -1]\n",
    "direction"
   ]
  },
  {
   "cell_type": "code",
   "execution_count": null,
   "metadata": {
    "collapsed": true,
    "scrolled": false
   },
   "outputs": [],
   "source": [
    "import logging\n",
    "\n",
    "logging.basicConfig(format='%(asctime)s - %(levelname)s: %(message)s', level=logging.DEBUG)\n",
    "\n",
    "slide_left = 'NG_Overview_009'\n",
    "slide_mid = None #'NG_Overview_024'\n",
    "slide_right = None#'NG_Overview_025'\n",
    "\n",
    "do_scan_left  = slide_left != None\n",
    "if do_scan_left:\n",
    "    print('Scanning left scan.')\n",
    "    do_scan((53331, 28806, -20726, 20464), 'DIA4x', 'DIA10x', path_to_nis, save_base_path, slide_left, dry_run_details=True )\n",
    "else:\n",
    "    print('Skipping left slide.')\n",
    "\n",
    "# mid slide\n",
    "do_scan_mid  = slide_mid != None\n",
    "\n",
    "if do_scan_mid:\n",
    "    print('Scanning mid scan.')\n",
    "    do_scan((13400, -7850, -20954, 18220), 'DIA4x', 'DIA10x', path_to_nis, save_base_path, slide_left )\n",
    "else:\n",
    "    print('Skipping middle slide.')\n",
    "\n",
    "# right slide\n",
    "do_scan_right  = slide_right != None\n",
    "if do_scan_right:\n",
    "    print('Scanning right scan.')\n",
    "    do_scan((-26500, -50000, -21053, 18177), 'DIA4x', 'DIA10x', path_to_nis, save_base_path, slide_left )\n",
    "else:\n",
    "    print('Skipping right slide.')"
   ]
  }
 ],
 "metadata": {
  "kernelspec": {
   "display_name": "Python 3",
   "language": "python",
   "name": "python3"
  },
  "language_info": {
   "codemirror_mode": {
    "name": "ipython",
    "version": 3.0
   },
   "file_extension": ".py",
   "mimetype": "text/x-python",
   "name": "python",
   "nbconvert_exporter": "python",
   "pygments_lexer": "ipython3",
   "version": "3.6.0"
  }
 },
 "nbformat": 4,
 "nbformat_minor": 0
}