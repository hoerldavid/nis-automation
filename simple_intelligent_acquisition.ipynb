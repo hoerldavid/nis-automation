{
 "cells": [
  {
   "cell_type": "code",
   "execution_count": null,
   "metadata": {
    "collapsed": true
   },
   "outputs": [],
   "source": [
    "###################\n",
    "# set up the environment, nis, and image saving path\n",
    "#####################\n",
    "import os\n",
    "from nis_util import *\n",
    "from simple_detection import *\n",
    "\n",
    "path_to_nis = 'C:\\\\Program Files\\\\NIS-Elements\\\\nis_ar.exe'\n",
    "save_base_path = 'C:\\\\Users\\\\Nikon\\\\Documents\\\\David\\\\tmpOverview'\n",
    "\n",
    "%matplotlib inline"
   ]
  },
  {
   "cell_type": "code",
   "execution_count": null,
   "metadata": {
    "collapsed": true
   },
   "outputs": [],
   "source": [
    "def do_scan(field, oc_overview, oc_detail, path_to_nis, save_base_path, prefix, suffix='.nd2', do_plot=True,\n",
    "           z_range = 10, z_step=2, z_drive='Ti2 ZDrive'):\n",
    "    # get field and directions \n",
    "    (left, right, top, bottom) = field\n",
    "    direction = [1 if top<bottom else -1, 1 if left<right else -1]\n",
    "    \n",
    "    # do overview\n",
    "    set_optical_configuration(path_to_nis, oc_overview)\n",
    "    # get resolution\n",
    "    (xres, yres, siz, mag) = get_resolution(path_to_nis)\n",
    "\n",
    "    # get fov\n",
    "    fov_x = xres * siz / mag\n",
    "    fov_y = yres * siz / mag\n",
    "    \n",
    "    ov_path = os.path.join(save_base_path, prefix + '_overview' + suffix)    \n",
    "    do_large_image_scan(path_to_nis, ov_path, left, right, top, bottom)\n",
    "    \n",
    "    print('finished overview, detecting wings...')\n",
    "    \n",
    "    # detect wings\n",
    "    img = read_bf(ov_path)\n",
    "    bboxes = detect_wings_simple(img, [top - fov_y * direction[0] / 2.0, left - fov_x * direction [1] / 2.0], [siz/mag,siz/mag], direction, plot=do_plot, layers=2)\n",
    "    bboxes = [scale_bbox(bbox, expand_factor=.15) for bbox in bboxes]\n",
    "    \n",
    "    print('detected {} wings:'.format(len(bboxes)))\n",
    "    idx = 0\n",
    "    for bbox in bboxes:\n",
    "        print('scanning wing {}: {}'.format(idx, bbox))\n",
    "        \n",
    "        (ymin, xmin, ymax, xmax) = bbox\n",
    "        wing_path = os.path.join(save_base_path, prefix + '_wing' + str(idx) + suffix) \n",
    "        idx += 1\n",
    "        \n",
    "        set_optical_configuration(path_to_nis, oc_detail)\n",
    "        pos = get_position(path_to_nis)\n",
    "        \n",
    "        fov = get_fov_from_res(get_resolution(path_to_nis))\n",
    "        grid = gen_grid(fov, [xmin, ymin], [xmax, ymax], 0.15, True)\n",
    "        \n",
    "        nda = NDAcquisition(wing_path)\n",
    "        nda.set_z(int(z_range/2), int(z_range/2), int(z_step), z_drive)\n",
    "        nda.add_points(map(lambda x : (x[0], x[1], pos[2] - pos[3]), grid))\n",
    "        nda.prepare(path_to_nis)\n",
    "        nda.run(path_to_nis)"
   ]
  },
  {
   "cell_type": "code",
   "execution_count": null,
   "metadata": {
    "collapsed": true
   },
   "outputs": [],
   "source": [
    "slide_left = 'NG_Overview_024'\n",
    "slide_mid = None #'NG_Overview_024'\n",
    "slide_right = None#'NG_Overview_025'\n",
    "\n",
    "do_scan_left  = slide_left != None\n",
    "if do_scan_left:\n",
    "    print('Scanning left scan.')\n",
    "    do_scan((51462, 29950, -19500, 21000), 'DIA4x', 'DIA10x', path_to_nis, save_base_path, slide_left )\n",
    "else:\n",
    "    print('Skipping left slide.')\n",
    "\n",
    "# mid slide\n",
    "do_scan_mid  = slide_mid != None\n",
    "\n",
    "if do_scan_mid:\n",
    "    print('Scanning mid scan.')\n",
    "    do_scan((11000, -10000, -19500, 21000), 'OC1', 'OC2', path_to_nis, save_base_path, slide_left )\n",
    "else:\n",
    "    print('Skipping middle slide.')\n",
    "\n",
    "# right slide\n",
    "do_scan_right  = slide_right != None\n",
    "if do_scan_right:\n",
    "    print('Scanning right scan.')\n",
    "    do_scan((-28900, -50000, -19500, 21000), 'OC1', 'OC2', path_to_nis, save_base_path, slide_left )\n",
    "else:\n",
    "    print('Skipping right slide.')"
   ]
  }
 ],
 "metadata": {
  "kernelspec": {
   "display_name": "Python 3",
   "language": "python",
   "name": "python3"
  },
  "language_info": {
   "codemirror_mode": {
    "name": "ipython",
    "version": 3.0
   },
   "file_extension": ".py",
   "mimetype": "text/x-python",
   "name": "python",
   "nbconvert_exporter": "python",
   "pygments_lexer": "ipython3",
   "version": "3.6.0"
  }
 },
 "nbformat": 4,
 "nbformat_minor": 0
}