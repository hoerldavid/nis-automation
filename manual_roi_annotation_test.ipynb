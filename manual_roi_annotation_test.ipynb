{
 "cells": [
  {
   "cell_type": "code",
   "execution_count": 1,
   "metadata": {
    "collapsed": true
   },
   "outputs": [],
   "source": [
    "import numpy as np\n",
    "from argparse import Namespace\n",
    "import time\n",
    "\n",
    "import PyQt5 as qt\n",
    "import pyqtgraph as pg\n",
    "\n",
    "%gui qt"
   ]
  },
  {
   "cell_type": "code",
   "execution_count": 10,
   "metadata": {},
   "outputs": [
    {
     "data": {
      "text/plain": [
       "'{\"roi\": [1, 1, 1, 1], \"label\": 0, \"verified\": true}'"
      ]
     },
     "execution_count": 10,
     "metadata": {},
     "output_type": "execute_result"
    }
   ],
   "source": [
    "class ROIAnnotationResult(Namespace):\n",
    "    \"\"\"\n",
    "    simple wrapper for annotation results\n",
    "    \"\"\"\n",
    "    def __init__(self, roi, label, verified=False):\n",
    "        super().__init__(\n",
    "            roi = np.array(roi),\n",
    "            label = int(label),\n",
    "            verified = bool(verified)\n",
    "        )\n",
    "    def to_json(self):\n",
    "        d = self.__dict__.copy()\n",
    "        d['roi'] = list((int(di) for di in d['roi']))\n",
    "        return d\n",
    "        \n",
    "import json\n",
    "\n",
    "json.dumps(ROIAnnotationResult([1,1,1,1], 0, 1).to_json())"
   ]
  },
  {
   "cell_type": "code",
   "execution_count": 4,
   "metadata": {},
   "outputs": [
    {
     "data": {
      "text/plain": [
       "[ROIAnnotationResult(label=1, roi=[52.65991227195843, 45.52077693843035, 66.68017545608309, 43.34008772804153], verified=True),\n",
       " ROIAnnotationResult(label=1, roi=[152.00289474058923, 125.5265664196088, 66.20384713510262, 45.72172933294374], verified=True)]"
      ]
     },
     "execution_count": 4,
     "metadata": {},
     "output_type": "execute_result"
    }
   ],
   "source": [
    "def manually_correct_rois(img, rois, labels, colors=None):\n",
    "    \"\"\"\n",
    "    Manually correct image (rectangle) ROI annotations\n",
    "    using an interactive plot (pyqtgraph)\n",
    "    \n",
    "    Parameters\n",
    "    ----------\n",
    "    img: np-array\n",
    "        the image (TODO: test with something non-grayscale?)\n",
    "    rois: list of 4-element-iterable\n",
    "        list of (x0,y0,w,h)-rois\n",
    "    labels: list of ints\n",
    "        labels, size needs to be >= size(rois)\n",
    "        if a label/class does not occur in the given rois, but you wish to use\n",
    "        it for manual annotation, append the label at the end of the list\n",
    "        (using this, you can do de-novo annotation)\n",
    "    colors: map label -> something accepted by QColor constructor\n",
    "        custom colors for the labels, optional\n",
    "        \n",
    "    Returns\n",
    "    -------\n",
    "    roi_results: list of ROIAnnotationResult\n",
    "        the manually curated ROIs (roi, class & whether it was manually verified or not)\n",
    "    \n",
    "    \"\"\"\n",
    "    \n",
    "    # set to default image axis order\n",
    "    # TODO: do we need this?\n",
    "    pg.setConfigOptions(imageAxisOrder='row-major')\n",
    "    \n",
    "    # keep all unique labels in list\n",
    "    labels_list = list(set(labels))\n",
    "    \n",
    "    # if no custom colors are specified\n",
    "    # generate some uniformly spaced colors in hsv    \n",
    "    if colors == None:\n",
    "        # number of unique labels\n",
    "        n_colors = len(set(labels))\n",
    "        hs = np.linspace(0,255,n_colors+1)\n",
    "        colors = {k : qt.QtGui.QColor.fromHsv(hs[i], 255, 255, 255) for i,k in enumerate(set(labels))}\n",
    "    \n",
    "    # generate QColors with a less saturated version for unverified boxes\n",
    "    qt_colors = {}\n",
    "    for lab in set(labels):\n",
    "        c_verified = qt.QtGui.QColor(colors[lab])\n",
    "        c_unverified = qt.QtGui.QColor()\n",
    "        c_unverified.setHsv(*(v // 1.5 if i in (1, 2) else v for i,v in enumerate(c_verified.getHsv())))\n",
    "        qt_colors[lab] = (c_verified, c_unverified)\n",
    "    \n",
    "    # init results\n",
    "    roi_results = [ROIAnnotationResult(roi, lab, 0) for (roi, lab) in zip(rois, labels)]\n",
    "    \n",
    "    # init window\n",
    "    win = pg.GraphicsWindow()\n",
    "    win.setWindowTitle('A Test')\n",
    "\n",
    "    # wait for window closing\n",
    "    done = False\n",
    "    def done_function():\n",
    "        nonlocal done\n",
    "        done = True\n",
    "        \n",
    "    # delete on close, so we can catch the destroyed signal\n",
    "    win.setAttribute(qt.QtCore.Qt.WA_DeleteOnClose)\n",
    "    win.destroyed.connect(done_function)\n",
    "    \n",
    "    # add a label\n",
    "    # TODO: add a meaningful label\n",
    "    label = pg.LabelItem(justify='right')\n",
    "    label.setText(\"<span style:'color: white'>aaa</span>\")\n",
    "    win.addItem(label)\n",
    "    \n",
    "    # show the image\n",
    "    ii = pg.ImageItem(img)\n",
    "    v = win.addViewBox(lockAspect=True)\n",
    "    v.invertY(True)\n",
    "    v.addItem(ii)\n",
    "    \n",
    "    # keep track of mouse position in the background\n",
    "    # that way, we can place new ROIs where user clicked\n",
    "    last_mouse_pos = None\n",
    "    def mouseMoved(evt):\n",
    "        nonlocal last_mouse_pos\n",
    "        last_mouse_pos=v.mapSceneToView(evt[0])\n",
    "    proxy = pg.SignalProxy(ii.scene().sigMouseMoved, rateLimit=60, slot=mouseMoved)\n",
    "    \n",
    "    \n",
    "    def connect_roi_annotation_result(new_roi_results):\n",
    "        \"\"\"\n",
    "        make a UI-ROI for given ROIAnnotationResult\n",
    "        \"\"\"\n",
    "        nonlocal roi_results\n",
    "        \n",
    "        new_roi_qt = pg.RectROI(new_roi_results.roi[:2], new_roi_results.roi[2:], removable=True)\n",
    "        new_roi_qt.pen.setColor(qt_colors[new_roi_results.label][0 if new_roi_results.verified else 1])\n",
    "        new_roi_qt.pen.setWidth(3)\n",
    "        new_roi_qt.setAcceptedMouseButtons(qt.QtCore.Qt.LeftButton)\n",
    "        \n",
    "        # update coordinates upon change in UI\n",
    "        def changed():\n",
    "            new_roi_results.roi = list(new_roi_qt.pos()) + list(new_roi_qt.size())\n",
    "        new_roi_qt.sigRegionChanged.connect(changed)\n",
    "        \n",
    "        # change class (and color) upon clicking in UI\n",
    "        def clicked():\n",
    "            if not new_roi_results.verified:\n",
    "                new_roi_results.verified = True\n",
    "            else:\n",
    "                new_roi_results.label=labels_list[(labels_list.index(new_roi_results.label) + 1) % len(labels_list)]\n",
    "            new_roi_qt.pen.setColor(qt_colors[new_roi_results.label][0 if new_roi_results.verified else 1])\n",
    "        new_roi_qt.sigClicked.connect(clicked)\n",
    "        \n",
    "        # remove from both UI and model if requested\n",
    "        def remove():\n",
    "            v.removeItem(new_roi_qt)\n",
    "            roi_results.remove(new_roi_results)\n",
    "        new_roi_qt.sigRemoveRequested.connect(remove)\n",
    "        \n",
    "        # add to UI\n",
    "        v.addItem(new_roi_qt)\n",
    "    \n",
    "    # connect all given rois and add to ui\n",
    "    for roi_result in roi_results:\n",
    "        connect_roi_annotation_result(roi_result)\n",
    "    \n",
    "    # add menu item to add new roi\n",
    "    ac = v.menu.addAction('Add ROI')\n",
    "    def add_roi(e):\n",
    "        nonlocal last_mouse_pos\n",
    "        nonlocal roi_results\n",
    "        \n",
    "        # create new roi at last mouse position\n",
    "        new_roi = [int(last_mouse_pos.x()), int(last_mouse_pos.y()), 20,20]\n",
    "        new_roi_results = ROIAnnotationResult(new_roi, labels_list[0], True)\n",
    "        roi_results.append(new_roi_results)\n",
    "        \n",
    "        # add to ui and connect events\n",
    "        connect_roi_annotation_result(new_roi_results)       \n",
    "        \n",
    "    ac.triggered.connect(add_roi)\n",
    "\n",
    "    # bring window to front\n",
    "    win.raise_()\n",
    "    \n",
    "    # wait for window closing\n",
    "    while not done:\n",
    "        qt.QtGui.QApplication.processEvents()\n",
    "    \n",
    "    return roi_results\n",
    "\n",
    "img = np.random.normal(size=(256, 256))\n",
    "manually_correct_rois(img, [], [1])"
   ]
  },
  {
   "cell_type": "code",
   "execution_count": null,
   "metadata": {
    "collapsed": true
   },
   "outputs": [],
   "source": [
    "pos = ac.parent().pos()\n",
    "\n"
   ]
  },
  {
   "cell_type": "code",
   "execution_count": null,
   "metadata": {
    "collapsed": true
   },
   "outputs": [],
   "source": [
    "win = pg.GraphicsWindow()\n",
    "win.setWindowTitle('A Test')\n",
    "\n",
    "# delete on close, so we can catch the destroyed signal\n",
    "# TODO: e.g. wait until closed\n",
    "win.setAttribute(qt.QtCore.Qt.WA_DeleteOnClose)\n",
    "win.destroyed.connect(lambda: print('CLOSED'))\n",
    "\n",
    "arr = np.random.normal(size=(256, 256))\n",
    "v = win.addViewBox(lockAspect=True)\n",
    "ii = pg.ImageItem(arr)\n",
    "v.addItem(ii)\n",
    "\n",
    "roi = pg.RectROI([0,0], [20,20])\n",
    "v.addItem(roi)\n",
    "\n",
    "# add menu item to add new roi\n",
    "ac = v.menu.addAction('Add ROI')\n",
    "def addROI():\n",
    "    v.addItem(pg.RectROI([0,0], [20,20]))\n",
    "ac.triggered.connect(addROI)\n",
    "\n",
    "acolor = qt.QtGui.QColor('#f00')\n",
    "roi.pen.setColor(acolor)\n",
    "\n",
    "# we need to explicitly make ROI clickable\n",
    "# TODO: toggle/cycle classes\n",
    "roi.setAcceptedMouseButtons(qt.QtCore.Qt.LeftButton)\n",
    "def clicked(e):\n",
    "    e.pen.setColor(qt.QtGui.QColor('#0f0'))\n",
    "roi.sigClicked.connect(clicked)\n"
   ]
  },
  {
   "cell_type": "code",
   "execution_count": null,
   "metadata": {
    "collapsed": true
   },
   "outputs": [],
   "source": [
    "\n",
    "acolor.setHsv(*(v // 1.5 if i==2 else v for i,v in enumerate(acolor.getHsv())))\n",
    "#acolor = qt.QtGui.QColor('#f00')\n",
    "roi.pen.setColor(acolor)\n",
    "roi.pen.setWidth(3)"
   ]
  },
  {
   "cell_type": "code",
   "execution_count": null,
   "metadata": {
    "collapsed": true
   },
   "outputs": [],
   "source": [
    "np.linspace(0,255,3)\n",
    "qt.QtGui.QColor().getHsv()"
   ]
  },
  {
   "cell_type": "code",
   "execution_count": null,
   "metadata": {
    "collapsed": true
   },
   "outputs": [],
   "source": [
    "list(zip([], [1,2]))"
   ]
  }
 ],
 "metadata": {
  "kernelspec": {
   "display_name": "Python 3",
   "language": "python",
   "name": "python3"
  },
  "language_info": {
   "codemirror_mode": {
    "name": "ipython",
    "version": 3
   },
   "file_extension": ".py",
   "mimetype": "text/x-python",
   "name": "python",
   "nbconvert_exporter": "python",
   "pygments_lexer": "ipython3",
   "version": "3.6.3"
  }
 },
 "nbformat": 4,
 "nbformat_minor": 2
}
