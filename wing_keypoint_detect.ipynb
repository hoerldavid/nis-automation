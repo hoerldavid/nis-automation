{
 "cells": [
  {
   "cell_type": "code",
   "execution_count": null,
   "metadata": {
    "collapsed": false
   },
   "outputs": [],
   "source": [
    "import javabridge\n",
    "import bioformats\n",
    "\n",
    "from matplotlib.widgets import RectangleSelector, Button\n",
    "import numpy as np\n",
    "import matplotlib.pyplot as plt\n",
    "\n",
    "from skimage.transform import rescale, pyramid_gaussian, resize\n",
    "\n",
    "%matplotlib osx"
   ]
  },
  {
   "cell_type": "code",
   "execution_count": null,
   "metadata": {
    "collapsed": true
   },
   "outputs": [],
   "source": [
    "# load image\n",
    "path=\"/Users/david/Desktop/wing_overview.nd2\"\n",
    "ds = 2\n",
    "layers = 3"
   ]
  },
  {
   "cell_type": "code",
   "execution_count": null,
   "metadata": {
    "collapsed": false
   },
   "outputs": [],
   "source": [
    "javabridge.start_vm(class_path=bioformats.JARS, run_headless=True)\n",
    "img = bioformats.load_image(path, rescale=False)\n",
    "\n",
    "pyr = [p for p in pyramid_gaussian(img, max_layer= layers, downscale = ds)]"
   ]
  },
  {
   "cell_type": "code",
   "execution_count": null,
   "metadata": {
    "collapsed": false
   },
   "outputs": [],
   "source": [
    "%matplotlib\n",
    "layer_label = 3"
   ]
  },
  {
   "cell_type": "code",
   "execution_count": null,
   "metadata": {
    "collapsed": false
   },
   "outputs": [],
   "source": [
    "def add_selection_callback(ev):\n",
    "    add_selection_callback.accu.append((select_callback.x1, select_callback.x2, select_callback.y1, select_callback.y2))\n",
    "    print('added selection')\n",
    "add_selection_callback.accu = []\n",
    "    \n",
    "def select_callback(eclick, erelease):\n",
    "    select_callback.x1, select_callback.y1 = eclick.xdata, eclick.ydata\n",
    "    select_callback.x2, select_callback.y2 = erelease.xdata, erelease.ydata\n",
    "    print('selected ' + str((select_callback.x1, select_callback.x2, select_callback.y1, select_callback.y2)))\n",
    "select_callback.x1, select_callback.x2, select_callback.y1, select_callback.y2 = 0, 0, 0, 0\n",
    "        \n",
    "plt.imshow(pyr[layer_label])\n",
    "\n",
    "rs = RectangleSelector(plt.gca(), select_callback,\n",
    "                                       drawtype='box', useblit=True,\n",
    "                                       button=[1, 3],  # don't use middle button\n",
    "                                       minspanx=5, minspany=5,\n",
    "                                       spancoords='pixels',\n",
    "                                       interactive=True)\n",
    "\n",
    "# add selection button\n",
    "axnext = plt.axes([0.45, -0.002, 0.1, 0.075])\n",
    "but = Button(axnext, \"ADD\" )\n",
    "but.on_clicked(add_selection_callback)\n",
    "\n",
    "plt.show()"
   ]
  },
  {
   "cell_type": "code",
   "execution_count": null,
   "metadata": {
    "collapsed": false,
    "scrolled": false
   },
   "outputs": [],
   "source": [
    "%matplotlib inline\n",
    "\n",
    "layer_to_use = 2\n",
    "cuts = []\n",
    "\n",
    "for x1, x2, y1, y2 in add_selection_callback.accu:\n",
    "    \n",
    "    # cut from full resolution\n",
    "    x1 *= ds**(layer_label - layer_to_use)\n",
    "    y1 *= ds**(layer_label - layer_to_use)\n",
    "    x2 *= ds**(layer_label - layer_to_use)\n",
    "    y2 *= ds**(layer_label - layer_to_use)\n",
    "    x1 = int(x1)\n",
    "    y1 = int(y1)\n",
    "    x2 = int(x2)\n",
    "    y2 = int(y2)\n",
    "    \n",
    "    #plt.figure()\n",
    "    #plt.imshow(pyr[0][y1:y2, x1:x2])\n",
    "    cuts.append(pyr[layer_to_use][y1:y2, x1:x2])"
   ]
  },
  {
   "cell_type": "code",
   "execution_count": null,
   "metadata": {
    "collapsed": false
   },
   "outputs": [],
   "source": [
    "print('selection ({}, {}) -> ({}, {})'.format(x1, y1, x2, y2))\n",
    "plt.imshow(pyr[layer_to_use][y1:y2, x1:x2])"
   ]
  },
  {
   "cell_type": "code",
   "execution_count": null,
   "metadata": {
    "collapsed": false,
    "scrolled": false
   },
   "outputs": [],
   "source": [
    "from skimage.feature import ORB, match_descriptors, plot_matches\n",
    "from skimage.transform import AffineTransform\n",
    "from skimage.measure import ransac\n",
    "\n",
    "from sklearn.cluster import MeanShift, estimate_bandwidth, DBSCAN\n",
    "\n",
    "plt.rcParams['figure.figsize'] = [12.0,12.0]\n",
    "\n",
    "\n",
    "\n",
    "idx1 = 0\n",
    "idx2 = 8\n",
    "offx = 200\n",
    "offy = 67\n",
    "sizy = 256\n",
    "sizx = 256\n",
    "img1 = cuts[idx1]\n",
    "#img1 = resize(cuts[idx1], (sizy, sizx))\n",
    "#img2 = resize(cuts[idx2], (sizy, sizx))\n",
    "#img2 = pyr[layer_to_use][offy:(offy + sizy), offx:(offx+sizx)]\n",
    "img2 = pyr[layer_to_use][1000:5000, 1000:4000]\n",
    "#img2 = pyr[layer_to_use]\n",
    "\n",
    "orb1 = ORB(n_keypoints=100, harris_k=0.14, fast_threshold=0.03, fast_n=12)\n",
    "orb = ORB(n_keypoints=2500, harris_k=0.14, fast_threshold=0.03, fast_n=12)\n",
    "    \n",
    "orb1.detect_and_extract(img1)\n",
    "desc1 = orb1.descriptors\n",
    "key1 = orb1.keypoints\n",
    "\n",
    "orb.detect_and_extract(img2)\n",
    "desc2 = orb.descriptors\n",
    "key2 = orb.keypoints\n",
    "\n",
    "plt.figure()\n",
    "m = match_descriptors(desc1, desc2)\n",
    "plot_matches(plt.gca(), img1, img2, key1, key2, m)\n",
    "\n",
    "#bandwidth = estimate_bandwidth(key2, quantile=0.2, n_samples=500)\n",
    "\n",
    "#ms = MeanShift(bandwidth=bandwidth, bin_seeding=True, cluster_all=True)\n",
    "#ms.fit(key2)\n",
    "\n",
    "ms = DBSCAN(eps=40, min_samples=50)\n",
    "ms.fit(key2)\n",
    "labels = ms.labels_\n",
    "#cluster_centers = ms.cluster_centers_\n",
    "\n",
    "print(len(set(labels)))\n",
    "\n",
    "cents = []\n",
    "for lab in [l for l in set(labels) if l >= 0]:\n",
    "    cp = key2[labels==lab]\n",
    "    \n",
    "    if len(cp)>100:\n",
    "        continue\n",
    "        \n",
    "    cent = np.apply_along_axis(np.mean, 0, cp)\n",
    "    cents.append(cent)\n",
    "    \n",
    "    plt.figure()\n",
    "    m = match_descriptors(desc1, desc2[labels==lab])\n",
    "    plot_matches(plt.gca(), img1, img2, key1, key2[labels==lab], m)\n",
    "    \n",
    "    d1 = key1[m[:,0],:]\n",
    "    d2 = key2[m[:,1],:]\n",
    "    \n",
    "    if (m.shape[0] < minsamples):\n",
    "        continue\n",
    "    \n",
    "    model, inlier = ransac((d1, d2), AffineTransform, minsamples, 10)\n",
    "    nInlier = sum(inlier)\n",
    "    inlierRatio = sum(inlier)/len(inlier)\n",
    "    \n",
    "    mat = model.params\n",
    "    print(mat)\n",
    "    print(mat.dot(np.array([0,0,1])))\n",
    "    print(np.array([0,img1.shape[1],1]).dot(mat))\n",
    "    print(np.array([img1.shape[0],0,1]).dot(mat))\n",
    "    print(np.array([img1.shape[0],img1.shape[1],1]).dot(mat))\n",
    "    \n",
    "    \n",
    "    \n",
    "\n",
    "print(labels)\n",
    "print(cents)\n",
    "\n",
    "plt.figure()\n",
    "plt.imshow(img2, cmap='gray')\n",
    "plt.scatter([y[1] for y in cents], [x[0] for x in cents], s=150, marker='x', c='red')"
   ]
  },
  {
   "cell_type": "code",
   "execution_count": null,
   "metadata": {
    "collapsed": false
   },
   "outputs": [],
   "source": [
    "cp = key2[labels==lab]\n",
    "np.apply_along_axis(np.mean, 0, cp)"
   ]
  },
  {
   "cell_type": "code",
   "execution_count": null,
   "metadata": {
    "collapsed": false
   },
   "outputs": [],
   "source": [
    "minsamples = 5\n",
    "d1 = key1[m[:,0],:]\n",
    "d2 = key2[m[:,1],:]\n",
    "model, inlier = ransac((d1, d2), AffineTransform, minsamples, 20)\n",
    "sum(inlier) > minsamples"
   ]
  },
  {
   "cell_type": "code",
   "execution_count": null,
   "metadata": {
    "collapsed": false,
    "scrolled": false
   },
   "outputs": [],
   "source": [
    "cut = 256\n",
    "minInlier = 16\n",
    "minInlierRatio = .4\n",
    "print(pyr[layer_to_use].shape)\n",
    "for x in np.arange(0, pyr[layer_to_use].shape[1] - cut - 2, cut/2):\n",
    "    for y in np.arange(0, pyr[layer_to_use].shape[0] - cut - 2, cut/2):\n",
    "        img2 = pyr[layer_to_use][y:(y+cut-1), x:(x+cut-1)]\n",
    "        img2 = resize(img2, (sizy, sizx))\n",
    "        \n",
    "        try:\n",
    "            orb.detect_and_extract(img2)\n",
    "            desc2 = orb.descriptors\n",
    "            key2 = orb.keypoints\n",
    "\n",
    "            m = match_descriptors(desc1, desc2, cross_check=True)\n",
    "\n",
    "            d1 = key1[m[:,0],:]\n",
    "            d2 = key2[m[:,1],:]\n",
    "            model, inlier = ransac((d1, d2), AffineTransform, minsamples, 10)\n",
    "\n",
    "            nInlier = sum(inlier)\n",
    "            inlierRatio = sum(inlier)/len(inlier)\n",
    "            \n",
    "            \n",
    "            \n",
    "            if (nInlier > minInlier and inlierRatio > minInlierRatio):\n",
    "                plt.figure()\n",
    "                plt.imshow(img2)\n",
    "                print('nInlier={}, ratio={}'.format(nInlier, inlierRatio))\n",
    "        except Exception as e:\n",
    "            print(None)\n",
    "        \n",
    "        \n"
   ]
  },
  {
   "cell_type": "code",
   "execution_count": null,
   "metadata": {
    "collapsed": true
   },
   "outputs": [],
   "source": [
    "from skimage.filters import threshold_adaptive\n",
    "from skimage.morphology import binary_closing, ball, disk\n",
    "img1 = pyr[layer_to_use]\n",
    "thrd = threshold_adaptive(img1, 201)"
   ]
  },
  {
   "cell_type": "code",
   "execution_count": null,
   "metadata": {
    "collapsed": false
   },
   "outputs": [],
   "source": [
    "from skimage.morphology import binary_closing, binary_opening, ball, disk\n",
    "from skimage.measure import regionprops, label\n",
    "\n",
    "thrd2 = np.bitwise_not(thrd)\n",
    "thrd2 = binary_closing(thrd2, selem=disk(3))\n",
    "\n",
    "rp = regionprops(label(thrd2))[0]\n"
   ]
  },
  {
   "cell_type": "code",
   "execution_count": null,
   "metadata": {
    "collapsed": false
   },
   "outputs": [],
   "source": []
  },
  {
   "cell_type": "code",
   "execution_count": null,
   "metadata": {
    "collapsed": true
   },
   "outputs": [],
   "source": [
    "ls = [r.label for r in regionprops(label(thrd2)) if r.area>20000 and\n",
    "      r.area<80000 and r.solidity > .6]\n",
    "\n",
    "#and r.area/r.filled_area > .9"
   ]
  },
  {
   "cell_type": "code",
   "execution_count": null,
   "metadata": {
    "collapsed": true
   },
   "outputs": [],
   "source": [
    "res = np.zeros(thrd.shape)\n",
    "l = label(thrd2)\n",
    "for li in ls:\n",
    "    res += (l == li)"
   ]
  },
  {
   "cell_type": "code",
   "execution_count": null,
   "metadata": {
    "collapsed": false
   },
   "outputs": [],
   "source": [
    "from skimage.morphology import remove_small_holes, watershed, binary_erosion\n",
    "from skimage.feature import peak_local_max\n",
    "from scipy import ndimage as ndi\n",
    "\n",
    "\n",
    "plt.rcParams['figure.figsize'] = [12.0,12.0]\n",
    "r2 = remove_small_holes(res.astype(np.bool), 5000)\n",
    "r2 = binary_erosion(r2, selem=disk(11))\n",
    "plt.imshow(label(r2))\n",
    "\n",
    "for r in regionprops(label(r2)):\n",
    "    print(np.array(r.bbox) * (ds**layer_to_use))\n",
    "\n",
    "for p in pyr:\n",
    "    print(p.shape)"
   ]
  },
  {
   "cell_type": "code",
   "execution_count": null,
   "metadata": {
    "collapsed": false
   },
   "outputs": [],
   "source": [
    "from skimage.morphology import remove_small_holes, watershed, binary_erosion\n",
    "from skimage.feature import peak_local_max\n",
    "from scipy import ndimage as ndi\n",
    "from skimage.morphology import binary_closing, binary_opening, ball, disk\n",
    "from skimage.measure import regionprops, label\n",
    "from skimage.filters import threshold_adaptive\n",
    "from skimage.morphology import binary_closing, ball, disk\n",
    "\n",
    "import javabridge\n",
    "import bioformats\n",
    "\n",
    "from matplotlib.widgets import RectangleSelector, Button\n",
    "import numpy as np\n",
    "import matplotlib.pyplot as plt\n",
    "import matplotlib.patches as mpatches\n",
    "\n",
    "from skimage.transform import rescale, pyramid_gaussian, resize\n",
    "from skimage.color import label2rgb\n",
    "\n",
    "plt.rcParams['figure.figsize'] = [12.0,12.0]\n",
    "\n",
    "def bbox_pix2unit(bbox, start, pixsize):\n",
    "    res = np.array(bbox, dtype=float).reshape((2,2)) * np.array(pixsize, dtype=float) + np.array(start, dtype=float)\n",
    "    return res.reshape((4,))\n",
    "\n",
    "def aspect(bbox):\n",
    "    (ymin, xmin, ymax, xmax) = bbox\n",
    "    exy = ymax - ymin\n",
    "    exx = xmax - xmin\n",
    "    return (exy / exx) if (exx > exy) else (exx / exy)\n",
    "\n",
    "def detect_wings_simple(img, start, pixsize,\n",
    "                        ds=2, layers=2, thresh_window=201,\n",
    "                        minarea=20000, maxarea=80000, minsolidity=.6,\n",
    "                        minaspect=.3, plot=False):\n",
    "    # downsample\n",
    "    pyr = [p for p in pyramid_gaussian(img, max_layer= layers, downscale = ds)]\n",
    "    img_ds = pyr[layers]\n",
    "    # adaptive threshold\n",
    "    thrd = threshold_adaptive(img_ds, thresh_window)\n",
    "    # clean a bit\n",
    "    thrd = np.bitwise_not(thrd)\n",
    "    thrd = binary_closing(thrd, selem=disk(3))\n",
    "\n",
    "    # filter objs\n",
    "    ls = [r.label for r in regionprops(label(thrd)) if r.area>minarea and\n",
    "          r.area<maxarea and r.solidity>minsolidity and aspect(r.bbox) > minaspect]\n",
    "    \n",
    "    # filtered binary\n",
    "    res = np.zeros(thrd.shape)\n",
    "    l = label(thrd)\n",
    "    for li in ls:\n",
    "        res += (l == li)\n",
    "    \n",
    "    # more cleaning, plus some erosion to separate touching wings\n",
    "    r2 = remove_small_holes(res.astype(np.bool), 5000)\n",
    "    r2 = binary_erosion(r2, selem=disk(11))\n",
    "    \n",
    "    if plot:\n",
    "        image_label_overlay = label2rgb(label(r2), image=img_ds)\n",
    "        fig, ax = plt.subplots(figsize=(12, 12))\n",
    "        ax.imshow(image_label_overlay)     \n",
    "        \n",
    "    \n",
    "    # get bboxes\n",
    "    bboxes = []\n",
    "    for r in regionprops(label(r2)):\n",
    "        if r.area < (minarea * .8 ):\n",
    "            continue\n",
    "            \n",
    "        bboxes.append(np.array(r.bbox) * (ds**layers))\n",
    "        if plot:\n",
    "            minr, minc, maxr, maxc = r.bbox\n",
    "            rect = mpatches.Rectangle((minc, minr), maxc - minc, maxr - minr,\n",
    "                                  fill=False, edgecolor='red', linewidth=2)\n",
    "            ax.add_patch(rect)\n",
    "    \n",
    "    # pixels to units\n",
    "    return [bbox_pix2unit(b, start, pixsize) for b in bboxes]\n",
    "\n",
    "def scale_bbox(bbox, expand_factor = .15):\n",
    "    (ymin, xmin, ymax, xmax) = tuple(bbox)\n",
    "    yrange = ymax - ymin\n",
    "    xrange = xmax - xmin\n",
    "    return (ymin - yrange * expand_factor / 2., xmin - xrange * expand_factor / 2.,\n",
    "            ymax + yrange * expand_factor / 2., xmax + xrange * expand_factor / 2.) \n",
    "    \n",
    "def read_bf(path):\n",
    "    javabridge.start_vm(class_path=bioformats.JARS, run_headless=True)\n",
    "    img = bioformats.load_image(path, rescale=False)\n",
    "    return img"
   ]
  },
  {
   "cell_type": "code",
   "execution_count": null,
   "metadata": {
    "collapsed": true
   },
   "outputs": [],
   "source": [
    "img = read_bf('/Volumes/CALM_4TB/Overviews/NG_Overview_020.nd2')\n",
    "detect_wings_simple(img, [0,0], [0,0], plot=True)"
   ]
  },
  {
   "cell_type": "code",
   "execution_count": null,
   "metadata": {
    "collapsed": false,
    "scrolled": false
   },
   "outputs": [],
   "source": [
    "import os\n",
    "\n",
    "basedir = '/Volumes/CALM_4TB/Overviews/'\n",
    "files = [os.path.join(basedir, f) for f in os.listdir(basedir)]\n",
    "\n",
    "for file in files:\n",
    "    img = read_bf(file)\n",
    "    detect_wings_simple(img, [0,0], [0,0], plot=True)"
   ]
  },
  {
   "cell_type": "code",
   "execution_count": null,
   "metadata": {
    "collapsed": false
   },
   "outputs": [],
   "source": [
    "detect_wings_simple(img, [0,0], [0,0], plot=True)"
   ]
  }
 ],
 "metadata": {
  "kernelspec": {
   "display_name": "Python 3",
   "language": "python",
   "name": "python3"
  },
  "language_info": {
   "codemirror_mode": {
    "name": "ipython",
    "version": 3
   },
   "file_extension": ".py",
   "mimetype": "text/x-python",
   "name": "python",
   "nbconvert_exporter": "python",
   "pygments_lexer": "ipython3",
   "version": "3.6.0"
  }
 },
 "nbformat": 4,
 "nbformat_minor": 2
}
